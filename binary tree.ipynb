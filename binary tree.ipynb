{
 "cells": [
  {
   "cell_type": "code",
   "execution_count": null,
   "metadata": {
    "collapsed": true
   },
   "outputs": [],
   "source": [
    "class node_tree():\n",
    "    def __init__(self,value, parent):\n",
    "        self.value = value\n",
    "        self.parent = parent\n",
    "    def change_value(self, value):\n",
    "        self.value = value\n",
    "    def get_value(self):\n",
    "        return self.value\n",
    "    \n",
    "class binary_tree():\n",
    "    def __init__(self, value_root):\n",
    "        self.root = node_tree(value_root, None)\n",
    "    \n",
    "    def add_node(self,value,parent, pos= 'L'):\n",
    "        \n",
    "        "
   ]
  }
 ],
 "metadata": {
  "kernelspec": {
   "display_name": "Python 3",
   "language": "python",
   "name": "python3"
  },
  "language_info": {
   "codemirror_mode": {
    "name": "ipython",
    "version": 3
   },
   "file_extension": ".py",
   "mimetype": "text/x-python",
   "name": "python",
   "nbconvert_exporter": "python",
   "pygments_lexer": "ipython3",
   "version": "3.6.3"
  }
 },
 "nbformat": 4,
 "nbformat_minor": 2
}
