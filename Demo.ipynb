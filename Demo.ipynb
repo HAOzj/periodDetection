{
 "cells": [
  {
   "cell_type": "code",
   "execution_count": 1,
   "metadata": {},
   "outputs": [],
   "source": [
    "from periodDetection.core import chineseDigits2arabicWithin10000, get_period"
   ]
  },
  {
   "cell_type": "code",
   "execution_count": 2,
   "metadata": {},
   "outputs": [
    {
     "data": {
      "text/plain": [
       "'2005年7月658号 到2006年12月8号'"
      ]
     },
     "execution_count": 2,
     "metadata": {},
     "output_type": "execute_result"
    }
   ],
   "source": [
    "chineseDigit = '二千零五年七月六百五十八号 到两千零六年十二月八号'\n",
    "\n",
    "chineseDigits2arabicWithin10000(chineseDigit)"
   ]
  },
  {
   "cell_type": "code",
   "execution_count": 3,
   "metadata": {
    "collapsed": true
   },
   "outputs": [],
   "source": [
    "string1 = '  二千零五年七月六号 大前年三月 到四月五号    上上周三号到周四'"
   ]
  },
  {
   "cell_type": "code",
   "execution_count": 4,
   "metadata": {},
   "outputs": [
    {
     "name": "stdout",
     "output_type": "stream",
     "text": [
      "原始句为 :   二千零五年七月六号 大前年三月 到四月五号    上上周三号到周四\n",
      "转化中文数字后的句子为 :   2005年7月6号 大前年3月 到4月5号    上上周3号到周4\n",
      "\n"
     ]
    },
    {
     "data": {
      "text/plain": [
       "[{'字段': '2005年7月',\n",
       "  '开始日期': datetime.date(2005, 7, 1),\n",
       "  '结束日期': datetime.date(2005, 7, 31)},\n",
       " {'字段': '6号',\n",
       "  '开始日期': datetime.date(2005, 7, 6),\n",
       "  '结束日期': datetime.date(2005, 7, 6)},\n",
       " {'字段': '大前年3月',\n",
       "  '开始日期': datetime.date(2015, 3, 1),\n",
       "  '结束日期': datetime.date(2015, 3, 31)},\n",
       " {'字段': '4月5号',\n",
       "  '开始日期': datetime.date(2015, 4, 5),\n",
       "  '结束日期': datetime.date(2015, 4, 5)},\n",
       " {'字段': '上上周3号',\n",
       "  '开始日期': datetime.date(2018, 6, 13),\n",
       "  '结束日期': datetime.date(2018, 6, 13)},\n",
       " {'字段': '周4',\n",
       "  '开始日期': datetime.date(2018, 6, 14),\n",
       "  '结束日期': datetime.date(2018, 6, 14)}]"
      ]
     },
     "execution_count": 4,
     "metadata": {},
     "output_type": "execute_result"
    }
   ],
   "source": [
    "get_period(string1)"
   ]
  },
  {
   "cell_type": "code",
   "execution_count": null,
   "metadata": {
    "collapsed": true
   },
   "outputs": [],
   "source": []
  }
 ],
 "metadata": {
  "kernelspec": {
   "display_name": "Python 3",
   "language": "python",
   "name": "python3"
  },
  "language_info": {
   "codemirror_mode": {
    "name": "ipython",
    "version": 3
   },
   "file_extension": ".py",
   "mimetype": "text/x-python",
   "name": "python",
   "nbconvert_exporter": "python",
   "pygments_lexer": "ipython3",
   "version": "3.6.3"
  }
 },
 "nbformat": 4,
 "nbformat_minor": 2
}
