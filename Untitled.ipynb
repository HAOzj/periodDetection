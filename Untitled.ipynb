{
 "cells": [
  {
   "cell_type": "code",
   "execution_count": 1,
   "metadata": {},
   "outputs": [],
   "source": [
    "from periodDetection.core import chineseDigits2arabicWithin10000, get_period\n",
    "import re"
   ]
  },
  {
   "cell_type": "code",
   "execution_count": 2,
   "metadata": {},
   "outputs": [
    {
     "data": {
      "text/plain": [
       "'2005年7月658号 到2006年12月8号'"
      ]
     },
     "execution_count": 2,
     "metadata": {},
     "output_type": "execute_result"
    }
   ],
   "source": [
    "chineseDigit = '二千零五年七月六百五十八号 到两千零六年十二月八号'\n",
    "\n",
    "chineseDigits2arabicWithin10000(chineseDigit)"
   ]
  },
  {
   "cell_type": "code",
   "execution_count": 3,
   "metadata": {},
   "outputs": [],
   "source": [
    "string_test = '  二千零五年七月六号 大前年三月 到四月五号   上上上周三号到四号'"
   ]
  },
  {
   "cell_type": "code",
   "execution_count": 4,
   "metadata": {},
   "outputs": [
    {
     "name": "stdout",
     "output_type": "stream",
     "text": [
      "\n",
      "新的一轮:\n",
      "  pattern匹配到的字段 :  \u001b[32m2005年7月\u001b[0m\n",
      "  root字段 :  \u001b[33m2005年\u001b[0m\n",
      "  root开始的日子 :  \u001b[33m2005-01-01\u001b[0m\n",
      "  root结束的日子 :  \u001b[33m2005-12-31\u001b[0m\n",
      "这轮匹配到的时间段 :\n",
      "  start :  \u001b[31m2005-07-01\u001b[0m\n",
      "  end :  \u001b[31m2005-07-31\u001b[0m\n",
      "  这轮的level_root和level_affix : 0和-1\n",
      "  剩下的字段 :  6号 大前年3月 到4月5号   上上上周3号到4号\n",
      "\n",
      "新的一轮:\n",
      "  pattern匹配到的字段 :  \u001b[32m6号\u001b[0m\n",
      "这轮匹配到的时间段 :\n",
      "  start :  \u001b[31m2005-01-06\u001b[0m\n",
      "  end :  \u001b[31m2005-01-06\u001b[0m\n",
      "  这轮的level_root和level_affix : 0和-3\n",
      "  剩下的字段 :   大前年3月 到4月5号   上上上周3号到4号\n",
      "\n",
      "新的一轮:\n",
      "  pattern匹配到的字段 :  \u001b[32m大前年3月\u001b[0m\n",
      "  root字段 :  \u001b[33m大前年\u001b[0m\n",
      "  root开始的日子 :  \u001b[33m2015-01-01\u001b[0m\n",
      "  root结束的日子 :  \u001b[33m2015-12-31\u001b[0m\n",
      "这轮匹配到的时间段 :\n",
      "  start :  \u001b[31m2015-03-01\u001b[0m\n",
      "  end :  \u001b[31m2015-03-31\u001b[0m\n",
      "  这轮的level_root和level_affix : 0和-1\n",
      "  剩下的字段 :  到4月5号   上上上周3号到4号\n",
      "\n",
      "新的一轮:\n",
      "  pattern匹配到的字段 :  \u001b[32m4月5号\u001b[0m\n",
      "  root字段 :  \u001b[33m4月\u001b[0m\n",
      "  root开始的日子 :  \u001b[33m2018-04-01\u001b[0m\n",
      "  root结束的日子 :  \u001b[33m2018-04-30\u001b[0m\n",
      "这轮匹配到的时间段 :\n",
      "  start :  \u001b[31m2018-04-05\u001b[0m\n",
      "  end :  \u001b[31m2018-04-05\u001b[0m\n",
      "  这轮的level_root和level_affix : -1和-3\n",
      "  剩下的字段 :     上上上周3号到4号\n",
      "\n",
      "新的一轮:\n",
      "  pattern匹配到的字段 :  \u001b[32m上上上周3号\u001b[0m\n",
      "  root字段 :  \u001b[33m上上上周\u001b[0m\n",
      "  root开始的日子 :  \u001b[33m2018-04-09\u001b[0m\n",
      "  root结束的日子 :  \u001b[33m2018-04-15\u001b[0m\n",
      "这轮匹配到的时间段 :\n",
      "  start :  \u001b[31m2018-04-11\u001b[0m\n",
      "  end :  \u001b[31m2018-04-11\u001b[0m\n",
      "  这轮的level_root和level_affix : -2和-3\n",
      "  剩下的字段 :  到4号\n",
      "\n",
      "新的一轮:\n",
      "  pattern匹配到的字段 :  \u001b[32m4号\u001b[0m\n",
      "这轮匹配到的时间段 :\n",
      "  start :  \u001b[31m2018-04-12\u001b[0m\n",
      "  end :  \u001b[31m2018-04-12\u001b[0m\n",
      "  这轮的level_root和level_affix : -2和-3\n",
      "  剩下的字段 :  \n"
     ]
    }
   ],
   "source": [
    "get_period(string_test)"
   ]
  },
  {
   "cell_type": "code",
   "execution_count": null,
   "metadata": {},
   "outputs": [],
   "source": []
  },
  {
   "cell_type": "code",
   "execution_count": 5,
   "metadata": {},
   "outputs": [
    {
     "ename": "NameError",
     "evalue": "name 'PATTERN' is not defined",
     "output_type": "error",
     "traceback": [
      "\u001b[1;31m---------------------------------------------------------------------------\u001b[0m",
      "\u001b[1;31mNameError\u001b[0m                                 Traceback (most recent call last)",
      "\u001b[1;32m<ipython-input-5-d264e79b90ae>\u001b[0m in \u001b[0;36m<module>\u001b[1;34m()\u001b[0m\n\u001b[0;32m      2\u001b[0m \u001b[0mstring\u001b[0m \u001b[1;33m=\u001b[0m \u001b[1;34m'2009年前3季度'\u001b[0m\u001b[1;33m\u001b[0m\u001b[0m\n\u001b[0;32m      3\u001b[0m \u001b[1;33m\u001b[0m\u001b[0m\n\u001b[1;32m----> 4\u001b[1;33m \u001b[0mshishi\u001b[0m \u001b[1;33m=\u001b[0m \u001b[0mre\u001b[0m\u001b[1;33m.\u001b[0m\u001b[0mfinditer\u001b[0m\u001b[1;33m(\u001b[0m\u001b[0mpattern\u001b[0m\u001b[1;33m=\u001b[0m \u001b[0mPATTERN\u001b[0m\u001b[1;33m,\u001b[0m \u001b[0mstring\u001b[0m\u001b[1;33m=\u001b[0m \u001b[0mstring\u001b[0m\u001b[1;33m)\u001b[0m\u001b[1;33m\u001b[0m\u001b[0m\n\u001b[0m\u001b[0;32m      5\u001b[0m \u001b[0mprint\u001b[0m\u001b[1;33m(\u001b[0m\u001b[0mstring\u001b[0m\u001b[1;33m)\u001b[0m\u001b[1;33m\u001b[0m\u001b[0m\n\u001b[0;32m      6\u001b[0m \u001b[1;32mfor\u001b[0m \u001b[0mi\u001b[0m \u001b[1;32min\u001b[0m \u001b[0mshishi\u001b[0m\u001b[1;33m:\u001b[0m\u001b[1;33m\u001b[0m\u001b[0m\n",
      "\u001b[1;31mNameError\u001b[0m: name 'PATTERN' is not defined"
     ]
    }
   ],
   "source": [
    "\n",
    "string = '2009年前3季度'\n",
    "\n",
    "shishi = re.finditer(pattern= PATTERN, string= string)\n",
    "print(string)\n",
    "for i in shishi:\n",
    "    print('\\n')\n",
    "    print(i.start(0), i.end(0))\n",
    "    print(i.start(1), i.end(1))\n",
    "    print(i.start(2), i.end(2))\n",
    "    print(i.start(3), i.end(3))\n",
    "    print(i.start(4), i.end(4))\n",
    "    print(i.start(5), i.end(5))\n",
    "    print(i.start(6), i.end(6))\n",
    "    print(i.start(7), i.end(7))\n"
   ]
  },
  {
   "cell_type": "code",
   "execution_count": null,
   "metadata": {},
   "outputs": [],
   "source": [
    "re.search(r'\\d+', '  122').group()"
   ]
  },
  {
   "cell_type": "code",
   "execution_count": null,
   "metadata": {},
   "outputs": [],
   "source": []
  }
 ],
 "metadata": {
  "kernelspec": {
   "display_name": "Python 3",
   "language": "python",
   "name": "python3"
  },
  "language_info": {
   "codemirror_mode": {
    "name": "ipython",
    "version": 3
   },
   "file_extension": ".py",
   "mimetype": "text/x-python",
   "name": "python",
   "nbconvert_exporter": "python",
   "pygments_lexer": "ipython3",
   "version": "3.6.4"
  }
 },
 "nbformat": 4,
 "nbformat_minor": 2
}
